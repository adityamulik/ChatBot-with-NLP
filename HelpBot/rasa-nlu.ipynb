{
 "cells": [
  {
   "cell_type": "code",
   "execution_count": 1,
   "metadata": {},
   "outputs": [],
   "source": [
    "from rasa_nlu.training_data import load_data\n",
    "from rasa_nlu.model import Trainer\n",
    "from rasa_nlu import config\n",
    "from rasa_nlu.model import Interpreter"
   ]
  },
  {
   "cell_type": "code",
   "execution_count": 2,
   "metadata": {},
   "outputs": [],
   "source": [
    "def train_helpbot(data_json, config_file, model_dir):\n",
    "    training_data = load_data(data_json)\n",
    "    trainer = Trainer(config.load(config_file))\n",
    "    trainer.train(training_data)\n",
    "    model_directory = trainer.persist(model_dir, fixed_model_name = 'helpbot')"
   ]
  },
  {
   "cell_type": "code",
   "execution_count": 3,
   "metadata": {},
   "outputs": [],
   "source": [
    "def predict_intent(text):\n",
    "    interpreter = Interpreter.load('./models/nlu/default/helpbot')\n",
    "    print(interpreter.parse(text))"
   ]
  },
  {
   "cell_type": "code",
   "execution_count": 4,
   "metadata": {},
   "outputs": [
    {
     "name": "stderr",
     "output_type": "stream",
     "text": [
      "C:\\Users\\aditya.mulik\\AppData\\Local\\Continuum\\anaconda3\\lib\\site-packages\\rasa_nlu\\utils\\__init__.py:236: YAMLLoadWarning: calling yaml.load() without Loader=... is deprecated, as the default Loader is unsafe. Please read https://msg.pyyaml.org/load for full details.\n",
      "  return yaml.load(read_file(filename, \"utf-8\"))\n"
     ]
    },
    {
     "name": "stdout",
     "output_type": "stream",
     "text": [
      "WARNING:tensorflow:From C:\\Users\\aditya.mulik\\AppData\\Local\\Continuum\\anaconda3\\lib\\site-packages\\rasa_nlu\\classifiers\\embedding_intent_classifier.py:508: The name tf.placeholder is deprecated. Please use tf.compat.v1.placeholder instead.\n",
      "\n",
      "WARNING:tensorflow:From C:\\Users\\aditya.mulik\\AppData\\Local\\Continuum\\anaconda3\\lib\\site-packages\\rasa_nlu\\classifiers\\embedding_intent_classifier.py:513: The name tf.placeholder_with_default is deprecated. Please use tf.compat.v1.placeholder_with_default instead.\n",
      "\n",
      "WARNING:tensorflow:\n",
      "The TensorFlow contrib module will not be included in TensorFlow 2.0.\n",
      "For more information, please see:\n",
      "  * https://github.com/tensorflow/community/blob/master/rfcs/20180907-contrib-sunset.md\n",
      "  * https://github.com/tensorflow/addons\n",
      "  * https://github.com/tensorflow/io (for I/O related ops)\n",
      "If you depend on functionality not listed there, please file an issue.\n",
      "\n",
      "WARNING:tensorflow:From C:\\Users\\aditya.mulik\\AppData\\Local\\Continuum\\anaconda3\\lib\\site-packages\\rasa_nlu\\classifiers\\embedding_intent_classifier.py:309: dense (from tensorflow.python.layers.core) is deprecated and will be removed in a future version.\n",
      "Instructions for updating:\n",
      "Use keras.layers.Dense instead.\n",
      "WARNING:tensorflow:From C:\\Users\\aditya.mulik\\AppData\\Local\\Continuum\\anaconda3\\lib\\site-packages\\tensorflow_core\\python\\layers\\core.py:187: Layer.apply (from tensorflow.python.keras.engine.base_layer) is deprecated and will be removed in a future version.\n",
      "Instructions for updating:\n",
      "Please use `layer.__call__` method instead.\n",
      "WARNING:tensorflow:From C:\\Users\\aditya.mulik\\AppData\\Local\\Continuum\\anaconda3\\lib\\site-packages\\rasa_nlu\\classifiers\\embedding_intent_classifier.py:310: dropout (from tensorflow.python.layers.core) is deprecated and will be removed in a future version.\n",
      "Instructions for updating:\n",
      "Use keras.layers.dropout instead.\n",
      "WARNING:tensorflow:From C:\\Users\\aditya.mulik\\AppData\\Local\\Continuum\\anaconda3\\lib\\site-packages\\rasa_nlu\\classifiers\\embedding_intent_classifier.py:373: The name tf.losses.get_regularization_loss is deprecated. Please use tf.compat.v1.losses.get_regularization_loss instead.\n",
      "\n",
      "WARNING:tensorflow:From C:\\Users\\aditya.mulik\\AppData\\Local\\Continuum\\anaconda3\\lib\\site-packages\\rasa_nlu\\classifiers\\embedding_intent_classifier.py:523: The name tf.train.AdamOptimizer is deprecated. Please use tf.compat.v1.train.AdamOptimizer instead.\n",
      "\n",
      "WARNING:tensorflow:From C:\\Users\\aditya.mulik\\AppData\\Local\\Continuum\\anaconda3\\lib\\site-packages\\tensorflow_core\\python\\ops\\math_grad.py:1424: where (from tensorflow.python.ops.array_ops) is deprecated and will be removed in a future version.\n",
      "Instructions for updating:\n",
      "Use tf.where in 2.0, which has the same broadcast rule as np.where\n",
      "WARNING:tensorflow:From C:\\Users\\aditya.mulik\\AppData\\Local\\Continuum\\anaconda3\\lib\\site-packages\\rasa_nlu\\classifiers\\embedding_intent_classifier.py:526: The name tf.Session is deprecated. Please use tf.compat.v1.Session instead.\n",
      "\n",
      "WARNING:tensorflow:From C:\\Users\\aditya.mulik\\AppData\\Local\\Continuum\\anaconda3\\lib\\site-packages\\rasa_nlu\\classifiers\\embedding_intent_classifier.py:409: The name tf.global_variables_initializer is deprecated. Please use tf.compat.v1.global_variables_initializer instead.\n",
      "\n"
     ]
    },
    {
     "name": "stderr",
     "output_type": "stream",
     "text": [
      "Epochs: 100%|████████████████████████████████████████████████| 300/300 [00:00<00:00, 322.13it/s, loss=0.093, acc=1.000]\n",
      "C:\\Users\\aditya.mulik\\AppData\\Local\\Continuum\\anaconda3\\lib\\site-packages\\sklearn\\externals\\joblib\\__init__.py:15: DeprecationWarning: sklearn.externals.joblib is deprecated in 0.21 and will be removed in 0.23. Please import this functionality directly from joblib, which can be installed with: pip install joblib. If this warning is raised when loading pickled models, you may need to re-serialize those models with scikit-learn 0.21+.\n",
      "  warnings.warn(msg, category=DeprecationWarning)\n"
     ]
    },
    {
     "name": "stdout",
     "output_type": "stream",
     "text": [
      "WARNING:tensorflow:From C:\\Users\\aditya.mulik\\AppData\\Local\\Continuum\\anaconda3\\lib\\site-packages\\rasa_nlu\\classifiers\\embedding_intent_classifier.py:627: The name tf.train.Saver is deprecated. Please use tf.compat.v1.train.Saver instead.\n",
      "\n"
     ]
    }
   ],
   "source": [
    "train_helpbot('./data/data.json', 'config.json', './models/nlu')"
   ]
  },
  {
   "cell_type": "code",
   "execution_count": 5,
   "metadata": {},
   "outputs": [
    {
     "name": "stdout",
     "output_type": "stream",
     "text": [
      "WARNING:tensorflow:From C:\\Users\\aditya.mulik\\AppData\\Local\\Continuum\\anaconda3\\lib\\site-packages\\rasa_nlu\\classifiers\\embedding_intent_classifier.py:658: The name tf.train.import_meta_graph is deprecated. Please use tf.compat.v1.train.import_meta_graph instead.\n",
      "\n",
      "INFO:tensorflow:Restoring parameters from ./models/nlu/default/helpbot\\intent_classifier_tensorflow_embedding.ckpt\n",
      "WARNING:tensorflow:From C:\\Users\\aditya.mulik\\AppData\\Local\\Continuum\\anaconda3\\lib\\site-packages\\rasa_nlu\\classifiers\\embedding_intent_classifier.py:662: The name tf.get_collection is deprecated. Please use tf.compat.v1.get_collection instead.\n",
      "\n",
      "{'intent': {'name': 'get_issue', 'confidence': 0.9311091899871826}, 'entities': [], 'intent_ranking': [{'name': 'get_issue', 'confidence': 0.9311091899871826}, {'name': 'greeting', 'confidence': 0.1888115406036377}, {'name': 'subscription', 'confidence': 0.11531795561313629}], 'text': 'Can you unlock my account?'}\n"
     ]
    }
   ],
   "source": [
    "predict_intent(\"Can you unlock my account?\")"
   ]
  },
  {
   "cell_type": "code",
   "execution_count": 9,
   "metadata": {},
   "outputs": [
    {
     "name": "stdout",
     "output_type": "stream",
     "text": [
      "INFO:tensorflow:Restoring parameters from ./models/nlu/default/helpbot\\intent_classifier_tensorflow_embedding.ckpt\n",
      "{'intent': {'name': 'subscription', 'confidence': 0.8507513403892517}, 'entities': [], 'intent_ranking': [{'name': 'subscription', 'confidence': 0.8507513403892517}, {'name': 'greeting', 'confidence': 0.27005261182785034}, {'name': 'get_issue', 'confidence': 0.2591320276260376}], 'text': 'unlock please'}\n"
     ]
    }
   ],
   "source": [
    "predict_intent(\"unlock please\")"
   ]
  },
  {
   "cell_type": "code",
   "execution_count": null,
   "metadata": {},
   "outputs": [],
   "source": []
  }
 ],
 "metadata": {
  "kernelspec": {
   "display_name": "Python 3",
   "language": "python",
   "name": "python3"
  },
  "language_info": {
   "codemirror_mode": {
    "name": "ipython",
    "version": 3
   },
   "file_extension": ".py",
   "mimetype": "text/x-python",
   "name": "python",
   "nbconvert_exporter": "python",
   "pygments_lexer": "ipython3",
   "version": "3.7.4"
  }
 },
 "nbformat": 4,
 "nbformat_minor": 2
}
